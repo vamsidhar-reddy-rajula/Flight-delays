{
 "cells": [
  {
   "cell_type": "markdown",
   "id": "cd1ceace-5212-46b4-b364-eefe6d4fd28b",
   "metadata": {},
   "source": [
    "# Imports"
   ]
  },
  {
   "cell_type": "code",
   "execution_count": 1,
   "id": "b39b7964-c2ca-49dc-9b7a-3f652cea90e1",
   "metadata": {},
   "outputs": [],
   "source": [
    "import pandas as pd\n",
    "import numpy as np\n",
    "import matplotlib.pyplot as plt\n",
    "import seaborn as sns\n",
    "\n",
    "from datetime import timedelta, datetime"
   ]
  },
  {
   "cell_type": "code",
   "execution_count": 2,
   "id": "dffebdd9-73ef-4a24-a9f8-ba8ff9281d7f",
   "metadata": {},
   "outputs": [],
   "source": [
    "a = pd.DataFrame({'A':[1,2,11],'B':[8,2,-8]})"
   ]
  },
  {
   "cell_type": "code",
   "execution_count": 8,
   "id": "a4d0c850-6dfe-4b05-8e69-1bf88daa7abc",
   "metadata": {},
   "outputs": [
    {
     "data": {
      "text/plain": [
       "0    True\n",
       "1    True\n",
       "2    True\n",
       "dtype: bool"
      ]
     },
     "execution_count": 8,
     "metadata": {},
     "output_type": "execute_result"
    }
   ],
   "source": [
    "(a>0).any(axis=1)"
   ]
  },
  {
   "cell_type": "markdown",
   "id": "41ab4454-179f-4dca-8ad5-f5e15ad06ef5",
   "metadata": {},
   "source": [
    "# Read Sample"
   ]
  },
  {
   "cell_type": "code",
   "execution_count": 2,
   "id": "f00d6dc2-00f2-42a0-8727-2d3c18a8614b",
   "metadata": {},
   "outputs": [
    {
     "data": {
      "text/html": [
       "<div>\n",
       "<style scoped>\n",
       "    .dataframe tbody tr th:only-of-type {\n",
       "        vertical-align: middle;\n",
       "    }\n",
       "\n",
       "    .dataframe tbody tr th {\n",
       "        vertical-align: top;\n",
       "    }\n",
       "\n",
       "    .dataframe thead th {\n",
       "        text-align: right;\n",
       "    }\n",
       "</style>\n",
       "<table border=\"1\" class=\"dataframe\">\n",
       "  <thead>\n",
       "    <tr style=\"text-align: right;\">\n",
       "      <th></th>\n",
       "      <th>Unnamed: 0</th>\n",
       "      <th>fl_date</th>\n",
       "      <th>mkt_unique_carrier</th>\n",
       "      <th>branded_code_share</th>\n",
       "      <th>mkt_carrier</th>\n",
       "      <th>mkt_carrier_fl_num</th>\n",
       "      <th>op_unique_carrier</th>\n",
       "      <th>tail_num</th>\n",
       "      <th>op_carrier_fl_num</th>\n",
       "      <th>origin_airport_id</th>\n",
       "      <th>...</th>\n",
       "      <th>origin_city_name</th>\n",
       "      <th>dest_airport_id</th>\n",
       "      <th>dest</th>\n",
       "      <th>dest_city_name</th>\n",
       "      <th>crs_dep_time</th>\n",
       "      <th>crs_arr_time</th>\n",
       "      <th>dup</th>\n",
       "      <th>crs_elapsed_time</th>\n",
       "      <th>flights</th>\n",
       "      <th>distance</th>\n",
       "    </tr>\n",
       "  </thead>\n",
       "  <tbody>\n",
       "    <tr>\n",
       "      <th>0</th>\n",
       "      <td>0</td>\n",
       "      <td>2020-01-01</td>\n",
       "      <td>WN</td>\n",
       "      <td>WN</td>\n",
       "      <td>WN</td>\n",
       "      <td>5888</td>\n",
       "      <td>WN</td>\n",
       "      <td>N951WN</td>\n",
       "      <td>5888</td>\n",
       "      <td>13891</td>\n",
       "      <td>...</td>\n",
       "      <td>Ontario, CA</td>\n",
       "      <td>14771</td>\n",
       "      <td>SFO</td>\n",
       "      <td>San Francisco, CA</td>\n",
       "      <td>1810</td>\n",
       "      <td>1945</td>\n",
       "      <td>N</td>\n",
       "      <td>95</td>\n",
       "      <td>1</td>\n",
       "      <td>363</td>\n",
       "    </tr>\n",
       "    <tr>\n",
       "      <th>1</th>\n",
       "      <td>1</td>\n",
       "      <td>2020-01-01</td>\n",
       "      <td>WN</td>\n",
       "      <td>WN</td>\n",
       "      <td>WN</td>\n",
       "      <td>6276</td>\n",
       "      <td>WN</td>\n",
       "      <td>N467WN</td>\n",
       "      <td>6276</td>\n",
       "      <td>13891</td>\n",
       "      <td>...</td>\n",
       "      <td>Ontario, CA</td>\n",
       "      <td>14771</td>\n",
       "      <td>SFO</td>\n",
       "      <td>San Francisco, CA</td>\n",
       "      <td>1150</td>\n",
       "      <td>1320</td>\n",
       "      <td>N</td>\n",
       "      <td>90</td>\n",
       "      <td>1</td>\n",
       "      <td>363</td>\n",
       "    </tr>\n",
       "    <tr>\n",
       "      <th>2</th>\n",
       "      <td>2</td>\n",
       "      <td>2020-01-01</td>\n",
       "      <td>WN</td>\n",
       "      <td>WN</td>\n",
       "      <td>WN</td>\n",
       "      <td>4598</td>\n",
       "      <td>WN</td>\n",
       "      <td>N7885A</td>\n",
       "      <td>4598</td>\n",
       "      <td>13891</td>\n",
       "      <td>...</td>\n",
       "      <td>Ontario, CA</td>\n",
       "      <td>14831</td>\n",
       "      <td>SJC</td>\n",
       "      <td>San Jose, CA</td>\n",
       "      <td>2020</td>\n",
       "      <td>2130</td>\n",
       "      <td>N</td>\n",
       "      <td>70</td>\n",
       "      <td>1</td>\n",
       "      <td>333</td>\n",
       "    </tr>\n",
       "    <tr>\n",
       "      <th>3</th>\n",
       "      <td>3</td>\n",
       "      <td>2020-01-01</td>\n",
       "      <td>WN</td>\n",
       "      <td>WN</td>\n",
       "      <td>WN</td>\n",
       "      <td>4761</td>\n",
       "      <td>WN</td>\n",
       "      <td>N551WN</td>\n",
       "      <td>4761</td>\n",
       "      <td>13891</td>\n",
       "      <td>...</td>\n",
       "      <td>Ontario, CA</td>\n",
       "      <td>14831</td>\n",
       "      <td>SJC</td>\n",
       "      <td>San Jose, CA</td>\n",
       "      <td>1340</td>\n",
       "      <td>1455</td>\n",
       "      <td>N</td>\n",
       "      <td>75</td>\n",
       "      <td>1</td>\n",
       "      <td>333</td>\n",
       "    </tr>\n",
       "    <tr>\n",
       "      <th>4</th>\n",
       "      <td>4</td>\n",
       "      <td>2020-01-01</td>\n",
       "      <td>WN</td>\n",
       "      <td>WN</td>\n",
       "      <td>WN</td>\n",
       "      <td>5162</td>\n",
       "      <td>WN</td>\n",
       "      <td>N968WN</td>\n",
       "      <td>5162</td>\n",
       "      <td>13891</td>\n",
       "      <td>...</td>\n",
       "      <td>Ontario, CA</td>\n",
       "      <td>14831</td>\n",
       "      <td>SJC</td>\n",
       "      <td>San Jose, CA</td>\n",
       "      <td>915</td>\n",
       "      <td>1035</td>\n",
       "      <td>N</td>\n",
       "      <td>80</td>\n",
       "      <td>1</td>\n",
       "      <td>333</td>\n",
       "    </tr>\n",
       "  </tbody>\n",
       "</table>\n",
       "<p>5 rows × 21 columns</p>\n",
       "</div>"
      ],
      "text/plain": [
       "   Unnamed: 0     fl_date mkt_unique_carrier branded_code_share mkt_carrier  \\\n",
       "0           0  2020-01-01                 WN                 WN          WN   \n",
       "1           1  2020-01-01                 WN                 WN          WN   \n",
       "2           2  2020-01-01                 WN                 WN          WN   \n",
       "3           3  2020-01-01                 WN                 WN          WN   \n",
       "4           4  2020-01-01                 WN                 WN          WN   \n",
       "\n",
       "   mkt_carrier_fl_num op_unique_carrier tail_num  op_carrier_fl_num  \\\n",
       "0                5888                WN   N951WN               5888   \n",
       "1                6276                WN   N467WN               6276   \n",
       "2                4598                WN   N7885A               4598   \n",
       "3                4761                WN   N551WN               4761   \n",
       "4                5162                WN   N968WN               5162   \n",
       "\n",
       "   origin_airport_id  ... origin_city_name dest_airport_id  dest  \\\n",
       "0              13891  ...      Ontario, CA           14771   SFO   \n",
       "1              13891  ...      Ontario, CA           14771   SFO   \n",
       "2              13891  ...      Ontario, CA           14831   SJC   \n",
       "3              13891  ...      Ontario, CA           14831   SJC   \n",
       "4              13891  ...      Ontario, CA           14831   SJC   \n",
       "\n",
       "      dest_city_name crs_dep_time  crs_arr_time  dup crs_elapsed_time  \\\n",
       "0  San Francisco, CA         1810          1945    N               95   \n",
       "1  San Francisco, CA         1150          1320    N               90   \n",
       "2       San Jose, CA         2020          2130    N               70   \n",
       "3       San Jose, CA         1340          1455    N               75   \n",
       "4       San Jose, CA          915          1035    N               80   \n",
       "\n",
       "   flights  distance  \n",
       "0        1       363  \n",
       "1        1       363  \n",
       "2        1       333  \n",
       "3        1       333  \n",
       "4        1       333  \n",
       "\n",
       "[5 rows x 21 columns]"
      ]
     },
     "execution_count": 2,
     "metadata": {},
     "output_type": "execute_result"
    }
   ],
   "source": [
    "# flights_sample = pd.read_csv(r\"../data/1_sampled data/3_percent.csv\")\n",
    "flights_sample = pd.read_csv(r\"flights_test.csv\")\n",
    "flights_sample.head()"
   ]
  },
  {
   "cell_type": "code",
   "execution_count": 3,
   "id": "69aaf568-1940-4031-9cb5-7c20934b539c",
   "metadata": {
    "tags": []
   },
   "outputs": [
    {
     "name": "stdout",
     "output_type": "stream",
     "text": [
      "<class 'pandas.core.frame.DataFrame'>\n",
      "RangeIndex: 660556 entries, 0 to 660555\n",
      "Data columns (total 21 columns):\n",
      " #   Column              Non-Null Count   Dtype \n",
      "---  ------              --------------   ----- \n",
      " 0   Unnamed: 0          660556 non-null  int64 \n",
      " 1   fl_date             660556 non-null  object\n",
      " 2   mkt_unique_carrier  660556 non-null  object\n",
      " 3   branded_code_share  660556 non-null  object\n",
      " 4   mkt_carrier         660556 non-null  object\n",
      " 5   mkt_carrier_fl_num  660556 non-null  int64 \n",
      " 6   op_unique_carrier   660556 non-null  object\n",
      " 7   tail_num            659057 non-null  object\n",
      " 8   op_carrier_fl_num   660556 non-null  int64 \n",
      " 9   origin_airport_id   660556 non-null  int64 \n",
      " 10  origin              660556 non-null  object\n",
      " 11  origin_city_name    660556 non-null  object\n",
      " 12  dest_airport_id     660556 non-null  int64 \n",
      " 13  dest                660556 non-null  object\n",
      " 14  dest_city_name      660556 non-null  object\n",
      " 15  crs_dep_time        660556 non-null  int64 \n",
      " 16  crs_arr_time        660556 non-null  int64 \n",
      " 17  dup                 660556 non-null  object\n",
      " 18  crs_elapsed_time    660556 non-null  int64 \n",
      " 19  flights             660556 non-null  int64 \n",
      " 20  distance            660556 non-null  int64 \n",
      "dtypes: int64(10), object(11)\n",
      "memory usage: 105.8+ MB\n"
     ]
    }
   ],
   "source": [
    "flights_sample.info()"
   ]
  },
  {
   "cell_type": "code",
   "execution_count": 4,
   "id": "a79c0940-bf2f-4974-a2fe-6490622385ed",
   "metadata": {},
   "outputs": [],
   "source": [
    "flights_sample.loc[:,[\"fl_date\",\"crs_arr_time\",\"crs_dep_time\"]] = flights_sample[[\"fl_date\",\"crs_arr_time\",\"crs_dep_time\"]].astype('string')\n",
    "\n",
    "arr_time = pd.to_datetime(flights_sample[\"fl_date\"]+\" \"+ flights_sample[\"crs_arr_time\"].str.zfill(4).replace({'2400':'0000'}))\n",
    "dep_time = pd.to_datetime(flights_sample[\"fl_date\"]+\" \"+ flights_sample[\"crs_dep_time\"].str.zfill(4).replace({'2400':'0000'}))\n",
    "\n",
    "flights_sample[\"arr_date_time\"] = arr_time\n",
    "flights_sample[\"dep_date_time\"] = dep_time\n",
    "\n",
    "flights_sample = flights_sample.astype({'arr_date_time':'datetime64[ns]','dep_date_time':'datetime64[ns]'})"
   ]
  },
  {
   "cell_type": "code",
   "execution_count": 5,
   "id": "037083c7-00c1-41ef-80dd-ef279e51e342",
   "metadata": {
    "tags": []
   },
   "outputs": [
    {
     "name": "stdout",
     "output_type": "stream",
     "text": [
      "<class 'pandas.core.frame.DataFrame'>\n",
      "RangeIndex: 660556 entries, 0 to 660555\n",
      "Data columns (total 23 columns):\n",
      " #   Column              Non-Null Count   Dtype         \n",
      "---  ------              --------------   -----         \n",
      " 0   Unnamed: 0          660556 non-null  int64         \n",
      " 1   fl_date             660556 non-null  string        \n",
      " 2   mkt_unique_carrier  660556 non-null  object        \n",
      " 3   branded_code_share  660556 non-null  object        \n",
      " 4   mkt_carrier         660556 non-null  object        \n",
      " 5   mkt_carrier_fl_num  660556 non-null  int64         \n",
      " 6   op_unique_carrier   660556 non-null  object        \n",
      " 7   tail_num            659057 non-null  object        \n",
      " 8   op_carrier_fl_num   660556 non-null  int64         \n",
      " 9   origin_airport_id   660556 non-null  int64         \n",
      " 10  origin              660556 non-null  object        \n",
      " 11  origin_city_name    660556 non-null  object        \n",
      " 12  dest_airport_id     660556 non-null  int64         \n",
      " 13  dest                660556 non-null  object        \n",
      " 14  dest_city_name      660556 non-null  object        \n",
      " 15  crs_dep_time        660556 non-null  string        \n",
      " 16  crs_arr_time        660556 non-null  string        \n",
      " 17  dup                 660556 non-null  object        \n",
      " 18  crs_elapsed_time    660556 non-null  int64         \n",
      " 19  flights             660556 non-null  int64         \n",
      " 20  distance            660556 non-null  int64         \n",
      " 21  arr_date_time       660556 non-null  datetime64[ns]\n",
      " 22  dep_date_time       660556 non-null  datetime64[ns]\n",
      "dtypes: datetime64[ns](2), int64(8), object(10), string(3)\n",
      "memory usage: 115.9+ MB\n"
     ]
    }
   ],
   "source": [
    "flights_sample.info()"
   ]
  },
  {
   "cell_type": "code",
   "execution_count": 6,
   "id": "d803c96c-60c6-4df5-928e-097babd2cf69",
   "metadata": {},
   "outputs": [
    {
     "data": {
      "text/plain": [
       "(660556, 23)"
      ]
     },
     "execution_count": 6,
     "metadata": {},
     "output_type": "execute_result"
    }
   ],
   "source": [
    "flights_sample.shape"
   ]
  },
  {
   "cell_type": "code",
   "execution_count": 7,
   "id": "7d95e23c-e384-4e90-a39f-3463017b1ae1",
   "metadata": {},
   "outputs": [],
   "source": [
    "flights_sample = flights_sample[(flights_sample.arr_date_time>=datetime(2020,1,1))& (flights_sample.arr_date_time<=datetime(2020,1,7))]"
   ]
  },
  {
   "cell_type": "code",
   "execution_count": 8,
   "id": "3359fb44-9b28-49ee-80f1-ecbbf1b017f0",
   "metadata": {},
   "outputs": [
    {
     "data": {
      "text/plain": [
       "(129736, 23)"
      ]
     },
     "execution_count": 8,
     "metadata": {},
     "output_type": "execute_result"
    }
   ],
   "source": [
    "flights_sample.shape"
   ]
  },
  {
   "cell_type": "markdown",
   "id": "88bd0be9-fc21-41f1-ade7-8381c765825a",
   "metadata": {},
   "source": [
    "# Feature Engineering"
   ]
  },
  {
   "cell_type": "code",
   "execution_count": 9,
   "id": "40dd1b61-74db-485b-b5d2-ce9810a5c1d1",
   "metadata": {},
   "outputs": [],
   "source": [
    "flights_fe = flights_sample.copy()"
   ]
  },
  {
   "cell_type": "markdown",
   "id": "68c569ba-8fa7-4cde-8f75-ad0505033fb5",
   "metadata": {},
   "source": [
    "## Airport Type"
   ]
  },
  {
   "cell_type": "code",
   "execution_count": 10,
   "id": "451b053c-aaaf-40da-a02b-02ad727c3192",
   "metadata": {
    "tags": []
   },
   "outputs": [],
   "source": [
    "origin_airport = flights_fe[\"origin_airport_id\"].value_counts()\n",
    "dest_airport = flights_fe[\"dest_airport_id\"].value_counts()\n",
    "\n",
    "airports = pd.concat([origin_airport,dest_airport],axis=1)\n",
    "airports = airports.sort_values(by=[\"origin_airport_id\"],ascending=False)\n",
    "\n",
    "df1, df2, df3, df4, df5 = np.array_split(airports, 5)\n",
    "\n",
    "df1[\"Type\"] = \"Very Large\"\n",
    "df2[\"Type\"] = \"Large\"\n",
    "df3['Type'] = \"Medium\"\n",
    "df4[\"Type\"] = \"Small\"\n",
    "df5[\"Type\"] = \"Very Small\"\n",
    "\n",
    "airport_type = pd.concat([df1,df2,df3,df4,df5]).drop(columns=[\"origin_airport_id\",\"dest_airport_id\"]).to_dict()['Type']\n",
    "\n",
    "flights_fe[\"origin_airport_type\"] = flights_fe.origin_airport_id.map(lambda x: airport_type[x] )\n",
    "flights_fe[\"dest_airport_type\"] = flights_fe.dest_airport_id.map(lambda x: airport_type[x] )"
   ]
  },
  {
   "cell_type": "markdown",
   "id": "b42c1d43-33e1-423c-8d71-91d8d00ea21f",
   "metadata": {},
   "source": [
    "## number of inbound flights"
   ]
  },
  {
   "cell_type": "code",
   "execution_count": 11,
   "id": "1fff324b-dba3-446d-8155-8b15f0a3ab41",
   "metadata": {},
   "outputs": [],
   "source": [
    "def get_num_inbound_flights_carrier(data,minutes=-60,percentages_to_print=[],num_row_processed=[0]):\n",
    "\n",
    "    if num_row_processed[0] in percentages_to_print:\n",
    "        print(f\"{datetime.now().time()} : {100*num_row_processed[0]/total_num}% rows processed\")\n",
    "    \n",
    "    num_row_processed[0] = num_row_processed[0]+1\n",
    "    carrier = data.mkt_unique_carrier\n",
    "    airport = data.origin_airport_id\n",
    "    date = data.dep_date_time\n",
    "    fl_num = data.op_carrier_fl_num\n",
    "    date_diff = date + timedelta(minutes=minutes)\n",
    "\n",
    "    mask = ( \n",
    "    (flights_fe.mkt_unique_carrier==carrier) & (flights_fe.dest_airport_id==airport) & \n",
    "    (flights_fe.arr_date_time >= date_diff) & (flights_fe.arr_date_time <= date) & (flights_fe.op_carrier_fl_num != fl_num)\n",
    "       )\n",
    "    return flights_fe[mask].shape[0]\n"
   ]
  },
  {
   "cell_type": "code",
   "execution_count": 12,
   "id": "afd7686a-d146-42e3-94c6-6b33f16711c1",
   "metadata": {},
   "outputs": [
    {
     "name": "stdout",
     "output_type": "stream",
     "text": [
      "07:15:29.917066 : 0.0% rows processed\n",
      "07:17:44.885308 : 10.000308318431276% rows processed\n",
      "07:19:51.381030 : 19.999845840784364% rows processed\n",
      "07:21:53.313018 : 30.000154159215636% rows processed\n",
      "07:23:55.507104 : 39.99969168156873% rows processed\n",
      "07:25:58.039589 : 50.0% rows processed\n",
      "07:28:00.448541 : 60.00030831843127% rows processed\n",
      "07:30:02.570346 : 69.99984584078436% rows processed\n",
      "07:32:04.660051 : 80.00015415921564% rows processed\n",
      "07:34:04.634270 : 89.99969168156872% rows processed\n"
     ]
    }
   ],
   "source": [
    "num_row_processed = [0]\n",
    "total_num = flights_fe.shape[0]\n",
    "percentages = np.round(np.linspace(0,total_num,11))\n",
    "flights_fe[\"inbound_flights\"] = flights_fe.apply(get_num_inbound_flights_carrier,axis=1,percentages_to_print=percentages,num_row_processed = num_row_processed)"
   ]
  },
  {
   "cell_type": "code",
   "execution_count": 13,
   "id": "281ce1cf-1aa0-46d2-b6a3-490079c9fced",
   "metadata": {},
   "outputs": [
    {
     "data": {
      "text/plain": [
       "(129736, 26)"
      ]
     },
     "execution_count": 13,
     "metadata": {},
     "output_type": "execute_result"
    }
   ],
   "source": [
    "flights_fe.shape"
   ]
  },
  {
   "cell_type": "markdown",
   "id": "07d821e5-8d63-4a6c-992c-09c0b1df4feb",
   "metadata": {},
   "source": [
    "## Number of flights scheduled to take off from the airport -15 mins from dep_time"
   ]
  },
  {
   "cell_type": "code",
   "execution_count": 14,
   "id": "0697ff50-f4ac-4046-bea5-7ddbfb7b7a30",
   "metadata": {},
   "outputs": [],
   "source": [
    "def get_num_dep_flights(data,minutes=-30,percentages_to_print=[],num_row_processed=[0]):\n",
    "    \n",
    "    if num_row_processed[0] in percentages_to_print:\n",
    "        print(f\"{datetime.now().time()} : {100*num_row_processed[0]/total_num}% rows processed\")\n",
    "    num_row_processed[0] = num_row_processed[0]+1\n",
    "    \n",
    "    airport = data.origin\n",
    "    date = data.dep_date_time\n",
    "    date_diff = date + timedelta(minutes=minutes)\n",
    "\n",
    "    mask = ( (flights_fe.origin ==airport) & \n",
    "    (flights_fe.dep_date_time >= date_diff) & (flights_fe.dep_date_time <= date)\n",
    "       )\n",
    "    return flights_fe[mask].shape[0]-1\n"
   ]
  },
  {
   "cell_type": "code",
   "execution_count": 15,
   "id": "e51feabd-efbd-45fa-8dd5-804b8cc2069f",
   "metadata": {},
   "outputs": [
    {
     "name": "stdout",
     "output_type": "stream",
     "text": [
      "07:36:05.217753 : 0.0% rows processed\n",
      "07:37:59.891241 : 10.000308318431276% rows processed\n",
      "07:39:56.946300 : 19.999845840784364% rows processed\n",
      "07:41:59.406328 : 30.000154159215636% rows processed\n",
      "07:44:04.988670 : 39.99969168156873% rows processed\n",
      "07:46:09.902205 : 50.0% rows processed\n",
      "07:48:11.649657 : 60.00030831843127% rows processed\n",
      "07:50:12.581256 : 69.99984584078436% rows processed\n",
      "07:52:18.309103 : 80.00015415921564% rows processed\n",
      "07:54:38.017497 : 89.99969168156872% rows processed\n"
     ]
    }
   ],
   "source": [
    "num_row_processed = [0]\n",
    "total_num = flights_fe.shape[0]\n",
    "percentages = np.round(np.linspace(0,total_num,11))\n",
    "flights_fe.loc[:,\"dep_flights_count\"] = flights_fe.apply(get_num_dep_flights,axis=1,percentages_to_print=percentages,num_row_processed = num_row_processed)"
   ]
  },
  {
   "cell_type": "code",
   "execution_count": 16,
   "id": "5a1bf37a-6dad-481d-bd3e-9cd77a5d4e5d",
   "metadata": {},
   "outputs": [
    {
     "data": {
      "text/plain": [
       "(129736, 27)"
      ]
     },
     "execution_count": 16,
     "metadata": {},
     "output_type": "execute_result"
    }
   ],
   "source": [
    "flights_fe.shape"
   ]
  },
  {
   "cell_type": "code",
   "execution_count": 17,
   "id": "02c893f8-4dc4-4c1a-ae77-20b4fd4a37bd",
   "metadata": {},
   "outputs": [
    {
     "data": {
      "text/plain": [
       "5"
      ]
     },
     "execution_count": 17,
     "metadata": {},
     "output_type": "execute_result"
    }
   ],
   "source": [
    "2+3"
   ]
  },
  {
   "cell_type": "markdown",
   "id": "8d585dbd-2ba5-43b0-b4e9-463ac381e368",
   "metadata": {},
   "source": [
    "## Number of flights scheduled to arrive to airport +/-20 mins of scheduled arr_time"
   ]
  },
  {
   "cell_type": "code",
   "execution_count": null,
   "id": "0e6720fd-339b-4468-b5f9-cf992de36ae8",
   "metadata": {},
   "outputs": [],
   "source": []
  },
  {
   "cell_type": "code",
   "execution_count": null,
   "id": "f9cb1561-d6f3-4d1c-8338-d38f40e04282",
   "metadata": {},
   "outputs": [],
   "source": [
    "pd.Data"
   ]
  },
  {
   "cell_type": "code",
   "execution_count": null,
   "id": "295fa877-d6ab-4ddd-bb28-e6c8a83ee213",
   "metadata": {},
   "outputs": [],
   "source": []
  },
  {
   "cell_type": "code",
   "execution_count": null,
   "id": "6790c66f-9517-4a25-9cbc-b456516f9b9d",
   "metadata": {},
   "outputs": [],
   "source": []
  },
  {
   "cell_type": "code",
   "execution_count": 18,
   "id": "9d20ad40-8f43-4238-a1cd-01b6893a3942",
   "metadata": {},
   "outputs": [],
   "source": [
    "def get_num_arr_flights(data,minutes=30,percentages_to_print=[],num_row_processed=[0]):\n",
    "    \n",
    "    if num_row_processed[0] in percentages_to_print:\n",
    "        print(f\"{datetime.now().time()} : {100*num_row_processed[0]/total_num}% rows processed\")\n",
    "    num_row_processed[0] = num_row_processed[0]+1\n",
    "    \n",
    "    airport = data.dest\n",
    "    date = data.arr_date_time + timedelta(minutes=minutes)\n",
    "    date_diff = date - timedelta(minutes=minutes)\n",
    "\n",
    "    mask = ( (flights_fe.dest ==airport) & \n",
    "    (flights_fe.arr_date_time >= date_diff) & (flights_fe.arr_date_time <= date)\n",
    "       )\n",
    "    return flights_fe[mask].shape[0]-1"
   ]
  },
  {
   "cell_type": "code",
   "execution_count": 19,
   "id": "3f181739-d281-42d0-883d-9f0be540c0ad",
   "metadata": {},
   "outputs": [
    {
     "name": "stdout",
     "output_type": "stream",
     "text": [
      "07:56:45.306798 : 0.0% rows processed\n",
      "07:58:51.939740 : 10.000308318431276% rows processed\n",
      "08:01:03.336819 : 19.999845840784364% rows processed\n",
      "08:03:06.364041 : 30.000154159215636% rows processed\n",
      "08:05:09.791972 : 39.99969168156873% rows processed\n",
      "08:07:12.203659 : 50.0% rows processed\n",
      "08:09:15.666966 : 60.00030831843127% rows processed\n",
      "08:11:17.917104 : 69.99984584078436% rows processed\n",
      "08:13:19.157909 : 80.00015415921564% rows processed\n",
      "08:15:23.291126 : 89.99969168156872% rows processed\n"
     ]
    }
   ],
   "source": [
    "num_row_processed = [0]\n",
    "total_num = flights_fe.shape[0]\n",
    "percentages = np.round(np.linspace(0,total_num,11))\n",
    "flights_fe.loc[:,\"arr_flights_count\"] = flights_fe.apply(get_num_arr_flights,axis=1,percentages_to_print=percentages,num_row_processed = num_row_processed)"
   ]
  },
  {
   "cell_type": "code",
   "execution_count": 20,
   "id": "69de828b-8308-4efa-a549-1589311ecf41",
   "metadata": {},
   "outputs": [
    {
     "data": {
      "text/plain": [
       "(129736, 28)"
      ]
     },
     "execution_count": 20,
     "metadata": {},
     "output_type": "execute_result"
    }
   ],
   "source": [
    "flights_fe.shape"
   ]
  },
  {
   "cell_type": "code",
   "execution_count": null,
   "id": "ceab6a00-aafc-4879-b929-0c39a9a6d01b",
   "metadata": {},
   "outputs": [],
   "source": []
  },
  {
   "cell_type": "code",
   "execution_count": null,
   "id": "f58a09f0-6d00-4c8d-a6ff-f9a750846ec0",
   "metadata": {},
   "outputs": [],
   "source": []
  },
  {
   "cell_type": "markdown",
   "id": "eae0cffa-d1c5-4fe6-a9c2-988ef866dd40",
   "metadata": {},
   "source": [
    "## State names"
   ]
  },
  {
   "cell_type": "code",
   "execution_count": 21,
   "id": "95cde995-a2cf-4c1c-b5be-1c778e34baa2",
   "metadata": {},
   "outputs": [],
   "source": [
    "flights_fe[\"origin_state\"] = flights_fe.origin_city_name.map(lambda x: x.split(\", \")[1])\n",
    "flights_fe[\"dest_state\"] = flights_fe.dest_city_name.map(lambda x: x.split(\", \")[1])"
   ]
  },
  {
   "cell_type": "code",
   "execution_count": 22,
   "id": "e75d97f6-9d6e-4a05-8c25-5dbdb5021ba5",
   "metadata": {},
   "outputs": [
    {
     "data": {
      "text/plain": [
       "array(['CA', 'VA', 'FL', 'OR', 'PA', 'AZ', 'RI', 'ME', 'NC', 'NV', 'NY',\n",
       "       'TX', 'KY', 'WA', 'PR', 'UT', 'MO', 'OK', 'MN', 'IL', 'SC', 'LA',\n",
       "       'OH', 'KS', 'WI', 'IN', 'IA', 'MS', 'AR', 'CO', 'MI', 'SD', 'GA',\n",
       "       'ND', 'NE', 'MT', 'AL', 'TN', 'DC', 'NM', 'MA', 'VT', 'CT', 'HI',\n",
       "       'NH', 'ID', 'NJ', 'MD', 'WY', 'VI', 'WV', 'AK', 'TT'], dtype=object)"
      ]
     },
     "execution_count": 22,
     "metadata": {},
     "output_type": "execute_result"
    }
   ],
   "source": [
    "flights_fe.origin_state.unique()"
   ]
  },
  {
   "cell_type": "code",
   "execution_count": 23,
   "id": "2a3f59a6-2d19-4cb7-9081-d3492b62acbb",
   "metadata": {},
   "outputs": [
    {
     "data": {
      "text/plain": [
       "(129736, 30)"
      ]
     },
     "execution_count": 23,
     "metadata": {},
     "output_type": "execute_result"
    }
   ],
   "source": [
    "flights_fe.shape"
   ]
  },
  {
   "cell_type": "markdown",
   "id": "4f9f6656-2f82-4384-a321-03b62ddaaf2c",
   "metadata": {},
   "source": [
    "## Weather"
   ]
  },
  {
   "cell_type": "markdown",
   "id": "edd3aca2-9776-4bd8-b080-01a8bc43c952",
   "metadata": {},
   "source": [
    "https://smoosavi.org/datasets/lstw"
   ]
  },
  {
   "cell_type": "code",
   "execution_count": 24,
   "id": "c1db9b89-060f-4c09-811c-095c4ff9e675",
   "metadata": {},
   "outputs": [],
   "source": [
    "# # Drop Alska, hawaii, Puerto Rico, U.S. Virgin Islands and American Samoa = AK,HI, DC, GU, MH, MH, MP, PR, VI\n",
    "# flights_fe = flights_fe[(~flights_fe.origin_state.isin([\"AK\",\"HI\",\"DC\",\"PR\",\"VI\",\"TT\"])) &\n",
    "#             (~flights_fe.dest_state.isin([\"AK\",\"HI\",\"DC\",\"PR\",\"VI\",\"TT\"]))]"
   ]
  },
  {
   "cell_type": "code",
   "execution_count": 27,
   "id": "0603e49c-047d-476a-a3bd-00e2adcf0051",
   "metadata": {},
   "outputs": [],
   "source": [
    "weather_kaggle = pd.read_csv(r\"../data/external/WeatherEvents_Jan2016-Dec2020.csv\")"
   ]
  },
  {
   "cell_type": "code",
   "execution_count": 28,
   "id": "3e1eaed4-5741-4378-80df-f86658685acc",
   "metadata": {},
   "outputs": [],
   "source": [
    "weather_kaggle = weather_kaggle.astype({'StartTime(UTC)':'datetime64[ns]',\n",
    "                                       'EndTime(UTC)':'datetime64[ns]'})"
   ]
  },
  {
   "cell_type": "code",
   "execution_count": 29,
   "id": "7efa3ef1-4b8b-4200-8c92-0f6abd6773df",
   "metadata": {},
   "outputs": [],
   "source": [
    "weather_kaggle = weather_kaggle[(weather_kaggle[\"StartTime(UTC)\"]>datetime(year=2019,month=1,day=1))&\n",
    "                                (weather_kaggle[\"EndTime(UTC)\"]<datetime(year=2020,month=2,day=1))]"
   ]
  },
  {
   "cell_type": "code",
   "execution_count": 30,
   "id": "3bc96e35-220f-475a-9808-e306dfb35a36",
   "metadata": {},
   "outputs": [
    {
     "data": {
      "text/html": [
       "<div>\n",
       "<style scoped>\n",
       "    .dataframe tbody tr th:only-of-type {\n",
       "        vertical-align: middle;\n",
       "    }\n",
       "\n",
       "    .dataframe tbody tr th {\n",
       "        vertical-align: top;\n",
       "    }\n",
       "\n",
       "    .dataframe thead th {\n",
       "        text-align: right;\n",
       "    }\n",
       "</style>\n",
       "<table border=\"1\" class=\"dataframe\">\n",
       "  <thead>\n",
       "    <tr style=\"text-align: right;\">\n",
       "      <th></th>\n",
       "      <th>EventId</th>\n",
       "      <th>Type</th>\n",
       "      <th>Severity</th>\n",
       "      <th>StartTime(UTC)</th>\n",
       "      <th>EndTime(UTC)</th>\n",
       "      <th>TimeZone</th>\n",
       "      <th>AirportCode</th>\n",
       "      <th>LocationLat</th>\n",
       "      <th>LocationLng</th>\n",
       "      <th>City</th>\n",
       "      <th>County</th>\n",
       "      <th>State</th>\n",
       "      <th>ZipCode</th>\n",
       "    </tr>\n",
       "  </thead>\n",
       "  <tbody>\n",
       "    <tr>\n",
       "      <th>1274</th>\n",
       "      <td>W-1275</td>\n",
       "      <td>Snow</td>\n",
       "      <td>Light</td>\n",
       "      <td>2019-01-02 01:54:00</td>\n",
       "      <td>2019-01-02 02:54:00</td>\n",
       "      <td>US/Mountain</td>\n",
       "      <td>K04V</td>\n",
       "      <td>38.0972</td>\n",
       "      <td>-106.1689</td>\n",
       "      <td>Saguache</td>\n",
       "      <td>Saguache</td>\n",
       "      <td>CO</td>\n",
       "      <td>81149.0</td>\n",
       "    </tr>\n",
       "    <tr>\n",
       "      <th>1275</th>\n",
       "      <td>W-1276</td>\n",
       "      <td>Cold</td>\n",
       "      <td>Severe</td>\n",
       "      <td>2019-01-03 10:54:00</td>\n",
       "      <td>2019-01-03 11:54:00</td>\n",
       "      <td>US/Mountain</td>\n",
       "      <td>K04V</td>\n",
       "      <td>38.0972</td>\n",
       "      <td>-106.1689</td>\n",
       "      <td>Saguache</td>\n",
       "      <td>Saguache</td>\n",
       "      <td>CO</td>\n",
       "      <td>81149.0</td>\n",
       "    </tr>\n",
       "    <tr>\n",
       "      <th>1276</th>\n",
       "      <td>W-1277</td>\n",
       "      <td>Fog</td>\n",
       "      <td>Moderate</td>\n",
       "      <td>2019-01-03 12:56:00</td>\n",
       "      <td>2019-01-03 13:18:00</td>\n",
       "      <td>US/Mountain</td>\n",
       "      <td>K04V</td>\n",
       "      <td>38.0972</td>\n",
       "      <td>-106.1689</td>\n",
       "      <td>Saguache</td>\n",
       "      <td>Saguache</td>\n",
       "      <td>CO</td>\n",
       "      <td>81149.0</td>\n",
       "    </tr>\n",
       "    <tr>\n",
       "      <th>1277</th>\n",
       "      <td>W-1278</td>\n",
       "      <td>Cold</td>\n",
       "      <td>Severe</td>\n",
       "      <td>2019-01-03 13:18:00</td>\n",
       "      <td>2019-01-03 15:54:00</td>\n",
       "      <td>US/Mountain</td>\n",
       "      <td>K04V</td>\n",
       "      <td>38.0972</td>\n",
       "      <td>-106.1689</td>\n",
       "      <td>Saguache</td>\n",
       "      <td>Saguache</td>\n",
       "      <td>CO</td>\n",
       "      <td>81149.0</td>\n",
       "    </tr>\n",
       "    <tr>\n",
       "      <th>1278</th>\n",
       "      <td>W-1279</td>\n",
       "      <td>Snow</td>\n",
       "      <td>Light</td>\n",
       "      <td>2019-01-03 19:54:00</td>\n",
       "      <td>2019-01-03 20:18:00</td>\n",
       "      <td>US/Mountain</td>\n",
       "      <td>K04V</td>\n",
       "      <td>38.0972</td>\n",
       "      <td>-106.1689</td>\n",
       "      <td>Saguache</td>\n",
       "      <td>Saguache</td>\n",
       "      <td>CO</td>\n",
       "      <td>81149.0</td>\n",
       "    </tr>\n",
       "  </tbody>\n",
       "</table>\n",
       "</div>"
      ],
      "text/plain": [
       "     EventId  Type  Severity      StartTime(UTC)        EndTime(UTC)  \\\n",
       "1274  W-1275  Snow     Light 2019-01-02 01:54:00 2019-01-02 02:54:00   \n",
       "1275  W-1276  Cold    Severe 2019-01-03 10:54:00 2019-01-03 11:54:00   \n",
       "1276  W-1277   Fog  Moderate 2019-01-03 12:56:00 2019-01-03 13:18:00   \n",
       "1277  W-1278  Cold    Severe 2019-01-03 13:18:00 2019-01-03 15:54:00   \n",
       "1278  W-1279  Snow     Light 2019-01-03 19:54:00 2019-01-03 20:18:00   \n",
       "\n",
       "         TimeZone AirportCode  LocationLat  LocationLng      City    County  \\\n",
       "1274  US/Mountain        K04V      38.0972    -106.1689  Saguache  Saguache   \n",
       "1275  US/Mountain        K04V      38.0972    -106.1689  Saguache  Saguache   \n",
       "1276  US/Mountain        K04V      38.0972    -106.1689  Saguache  Saguache   \n",
       "1277  US/Mountain        K04V      38.0972    -106.1689  Saguache  Saguache   \n",
       "1278  US/Mountain        K04V      38.0972    -106.1689  Saguache  Saguache   \n",
       "\n",
       "     State  ZipCode  \n",
       "1274    CO  81149.0  \n",
       "1275    CO  81149.0  \n",
       "1276    CO  81149.0  \n",
       "1277    CO  81149.0  \n",
       "1278    CO  81149.0  "
      ]
     },
     "execution_count": 30,
     "metadata": {},
     "output_type": "execute_result"
    }
   ],
   "source": [
    "weather_kaggle.head()"
   ]
  },
  {
   "cell_type": "code",
   "execution_count": 31,
   "id": "72448b8f-31b7-4c06-a935-2f88bbb6b5f2",
   "metadata": {},
   "outputs": [],
   "source": [
    "flights_fe.origin = flights_fe.origin.replace({'FCA':'GPI','SCE':'UNV','BKG':'BBG','AZA':'IWA','USA':'JQF',\n",
    "                      'MQT':'SAW','YUM':'NYL','HHH':'HXD'})\n",
    "flights_fe.dest = flights_fe.dest.replace({'FCA':'GPI','SCE':'UNV','BKG':'BBG','AZA':'IWA','USA':'JQF',\n",
    "                      'MQT':'SAW','YUM':'NYL','HHH':'HXD'})"
   ]
  },
  {
   "cell_type": "code",
   "execution_count": 32,
   "id": "41f24d7a-4e39-4b87-b2f6-31df5a10f6dd",
   "metadata": {},
   "outputs": [],
   "source": [
    "def get_weather(data,percentages_to_print=[],num_row_processed=[0]):\n",
    "    if num_row_processed[0] in percentages_to_print:\n",
    "        print(f\"{datetime.now().time()} : {100*num_row_processed[0]/total_num}% rows processed\")\n",
    "    num_row_processed[0] = num_row_processed[0]+1\n",
    "    \n",
    "    arr_time = data.arr_date_time\n",
    "    dep_time = data.dep_date_time\n",
    "    origin_id = data.origin\n",
    "    dest_id = data.dest\n",
    "    \n",
    "    weather_details = pd.Series(dtype='string')\n",
    "    \n",
    "    try:\n",
    "        weather_details[\"arr_type\"] ,weather_details[\"arr_severity\"] = weather_kaggle[(weather_kaggle[\"StartTime(UTC)\"]<arr_time)&\n",
    "                  (weather_kaggle[\"AirportCode\"]==\"K\"+dest_id)].sort_values(by='StartTime(UTC)',ascending=False).iloc[0][['Type','Severity']]\n",
    "    except IndexError as e:\n",
    "        weather_details[\"arr_type\"] ,weather_details[\"arr_severity\"] = np.nan,np.nan\n",
    "        \n",
    "    try:\n",
    "         weather_details[\"dep_type\"] ,weather_details[\"dep_severity\"] = weather_kaggle[(weather_kaggle[\"StartTime(UTC)\"]<dep_time)&\n",
    "                  (weather_kaggle[\"AirportCode\"]==\"K\"+origin_id)].sort_values(by='StartTime(UTC)',ascending=False).iloc[0][['Type','Severity']]\n",
    "    except IndexError as e:\n",
    "        weather_details[\"dep_type\"] ,weather_details[\"dep_severity\"] = np.nan, np.nan\n",
    "    \n",
    "    print(num_row_processed)\n",
    "    return weather_details"
   ]
  },
  {
   "cell_type": "code",
   "execution_count": 33,
   "id": "811d17d8-beae-4023-b962-8ed6aa343748",
   "metadata": {
    "tags": []
   },
   "outputs": [],
   "source": [
    "# num_row_processed = [0]\n",
    "# total_num = flights_fe.shape[0]\n",
    "# percentages = np.round(np.linspace(0,total_num,11))\n",
    "# weather_details = flights_fe.apply(get_weather,axis=1,percentages_to_print=percentages,num_row_processed = num_row_processed)"
   ]
  },
  {
   "cell_type": "code",
   "execution_count": 34,
   "id": "67d5a8b2-cf07-4629-863d-43640e7f0047",
   "metadata": {},
   "outputs": [
    {
     "ename": "NameError",
     "evalue": "name 'weather_details' is not defined",
     "output_type": "error",
     "traceback": [
      "\u001b[1;31m---------------------------------------------------------------------------\u001b[0m",
      "\u001b[1;31mNameError\u001b[0m                                 Traceback (most recent call last)",
      "\u001b[1;32m~\\AppData\\Local\\Temp/ipykernel_16932/1029784554.py\u001b[0m in \u001b[0;36m<module>\u001b[1;34m\u001b[0m\n\u001b[1;32m----> 1\u001b[1;33m \u001b[0mweather_details\u001b[0m\u001b[1;33m.\u001b[0m\u001b[0mhead\u001b[0m\u001b[1;33m(\u001b[0m\u001b[1;33m)\u001b[0m\u001b[1;33m\u001b[0m\u001b[1;33m\u001b[0m\u001b[0m\n\u001b[0m",
      "\u001b[1;31mNameError\u001b[0m: name 'weather_details' is not defined"
     ]
    }
   ],
   "source": [
    "# weather_details.head()"
   ]
  },
  {
   "cell_type": "code",
   "execution_count": null,
   "id": "2d50d397-ecd2-4bad-aac0-2e81f33b2e13",
   "metadata": {},
   "outputs": [],
   "source": [
    "# flights_fe = pd.merge(left=flights_fe,right=weather_details,left_index=True,right_index=True)"
   ]
  },
  {
   "cell_type": "code",
   "execution_count": null,
   "id": "848732e8-fba2-46ea-90c4-aa3b323bc34a",
   "metadata": {},
   "outputs": [],
   "source": []
  },
  {
   "cell_type": "code",
   "execution_count": null,
   "id": "e8f0aa88-0b44-4c28-8440-faf6b542020f",
   "metadata": {},
   "outputs": [],
   "source": []
  },
  {
   "cell_type": "markdown",
   "id": "c30dcbae-6f7c-4507-98d4-3549f0ee91f4",
   "metadata": {},
   "source": [
    "## Traffic"
   ]
  },
  {
   "cell_type": "code",
   "execution_count": null,
   "id": "9dcfd818-2bb3-4415-922a-1a3c50cd9503",
   "metadata": {},
   "outputs": [],
   "source": []
  },
  {
   "cell_type": "code",
   "execution_count": null,
   "id": "b792479e-5dd9-43ae-8bd6-73a7893fbd95",
   "metadata": {},
   "outputs": [],
   "source": []
  },
  {
   "cell_type": "markdown",
   "id": "797ce7c7-1610-4d20-b88f-e56963349233",
   "metadata": {},
   "source": [
    "## City Population"
   ]
  },
  {
   "cell_type": "code",
   "execution_count": 41,
   "id": "4691e2b9-275c-4b69-bdba-cfc08a97af2d",
   "metadata": {},
   "outputs": [],
   "source": [
    "data = pd.read_csv(r\"../data/external/census_data.csv\")"
   ]
  },
  {
   "cell_type": "code",
   "execution_count": 42,
   "id": "84c12f06-dbe9-4d27-bc66-3f2e212641cc",
   "metadata": {},
   "outputs": [
    {
     "data": {
      "text/html": [
       "<div>\n",
       "<style scoped>\n",
       "    .dataframe tbody tr th:only-of-type {\n",
       "        vertical-align: middle;\n",
       "    }\n",
       "\n",
       "    .dataframe tbody tr th {\n",
       "        vertical-align: top;\n",
       "    }\n",
       "\n",
       "    .dataframe thead th {\n",
       "        text-align: right;\n",
       "    }\n",
       "</style>\n",
       "<table border=\"1\" class=\"dataframe\">\n",
       "  <thead>\n",
       "    <tr style=\"text-align: right;\">\n",
       "      <th></th>\n",
       "      <th>POPESTIMATE2019</th>\n",
       "    </tr>\n",
       "    <tr>\n",
       "      <th>STNAME</th>\n",
       "      <th></th>\n",
       "    </tr>\n",
       "  </thead>\n",
       "  <tbody>\n",
       "    <tr>\n",
       "      <th>Alabama</th>\n",
       "      <td>9806370</td>\n",
       "    </tr>\n",
       "    <tr>\n",
       "      <th>Alaska</th>\n",
       "      <td>1463090</td>\n",
       "    </tr>\n",
       "    <tr>\n",
       "      <th>Arizona</th>\n",
       "      <td>14557434</td>\n",
       "    </tr>\n",
       "    <tr>\n",
       "      <th>Arkansas</th>\n",
       "      <td>6035608</td>\n",
       "    </tr>\n",
       "    <tr>\n",
       "      <th>California</th>\n",
       "      <td>79024446</td>\n",
       "    </tr>\n",
       "  </tbody>\n",
       "</table>\n",
       "</div>"
      ],
      "text/plain": [
       "            POPESTIMATE2019\n",
       "STNAME                     \n",
       "Alabama             9806370\n",
       "Alaska              1463090\n",
       "Arizona            14557434\n",
       "Arkansas            6035608\n",
       "California         79024446"
      ]
     },
     "execution_count": 42,
     "metadata": {},
     "output_type": "execute_result"
    }
   ],
   "source": [
    "population = data.groupby(\"STNAME\").sum()\n",
    "population.head()"
   ]
  },
  {
   "cell_type": "code",
   "execution_count": 45,
   "id": "5cdb2a40-34d7-4b69-bac6-88d15201d6f5",
   "metadata": {},
   "outputs": [],
   "source": [
    "codes = pd.read_csv(r\"../data/external/state codes.csv\")"
   ]
  },
  {
   "cell_type": "code",
   "execution_count": 46,
   "id": "36737c9e-f686-44a7-9600-17cb6c024671",
   "metadata": {},
   "outputs": [],
   "source": [
    "population = pd.merge(left=population,right=codes,right_on='Name',left_index=True)"
   ]
  },
  {
   "cell_type": "code",
   "execution_count": 47,
   "id": "3ceed49b-d9c4-46ca-af5d-509c90403adb",
   "metadata": {},
   "outputs": [],
   "source": [
    "population = population.set_index('State or Region Code')"
   ]
  },
  {
   "cell_type": "code",
   "execution_count": 48,
   "id": "c64d5fc5-8e65-42a4-809d-7ff561007f7e",
   "metadata": {},
   "outputs": [],
   "source": [
    "population.loc[\"DC\",\"POPESTIMATE2019\"] = 705749\n",
    "population.loc[\"VI\",\"POPESTIMATE2019\"] = 104578\n",
    "population.loc[\"PR\",\"POPESTIMATE2019\"] = 3654474\n",
    "population.loc[\"TT\",\"POPESTIMATE2019\"] = 1394969"
   ]
  },
  {
   "cell_type": "code",
   "execution_count": 49,
   "id": "bef83ffb-1eb5-4a4d-a449-b16dba93e87b",
   "metadata": {},
   "outputs": [],
   "source": [
    "flights_fe[\"origin_population\"] = flights_fe.origin_state.map(lambda x: population.loc[x][\"POPESTIMATE2019\"])"
   ]
  },
  {
   "cell_type": "code",
   "execution_count": 50,
   "id": "9ef05e30-1603-4cb6-90e8-0a0b53a0dd97",
   "metadata": {},
   "outputs": [],
   "source": [
    "flights_fe[\"dest_population\"] = flights_fe.origin_state.map(lambda x: population.loc[x][\"POPESTIMATE2019\"])"
   ]
  },
  {
   "cell_type": "code",
   "execution_count": null,
   "id": "daa3c112-1e5f-4861-aba9-bcf74f1fc8df",
   "metadata": {},
   "outputs": [],
   "source": []
  },
  {
   "cell_type": "code",
   "execution_count": null,
   "id": "b4250559-5de6-44f4-aead-9c6adab87402",
   "metadata": {},
   "outputs": [],
   "source": []
  },
  {
   "cell_type": "markdown",
   "id": "af4d0aab-a130-45f1-a200-90f1be4bfbfc",
   "metadata": {},
   "source": [
    "## Enplanements"
   ]
  },
  {
   "cell_type": "code",
   "execution_count": 51,
   "id": "0a21462a-3ece-478b-b63b-15bea7e89214",
   "metadata": {},
   "outputs": [],
   "source": [
    "enplanemntes = pd.read_excel(\"../data/external/preliminary-cy20-commercial-service-enplanements.xlsx\")"
   ]
  },
  {
   "cell_type": "code",
   "execution_count": 52,
   "id": "6e0f68af-d36c-4ea7-822b-c113f28acdce",
   "metadata": {},
   "outputs": [
    {
     "data": {
      "text/html": [
       "<div>\n",
       "<style scoped>\n",
       "    .dataframe tbody tr th:only-of-type {\n",
       "        vertical-align: middle;\n",
       "    }\n",
       "\n",
       "    .dataframe tbody tr th {\n",
       "        vertical-align: top;\n",
       "    }\n",
       "\n",
       "    .dataframe thead th {\n",
       "        text-align: right;\n",
       "    }\n",
       "</style>\n",
       "<table border=\"1\" class=\"dataframe\">\n",
       "  <thead>\n",
       "    <tr style=\"text-align: right;\">\n",
       "      <th></th>\n",
       "      <th>Locid</th>\n",
       "      <th>CY 19 Enplanements</th>\n",
       "    </tr>\n",
       "  </thead>\n",
       "  <tbody>\n",
       "    <tr>\n",
       "      <th>0</th>\n",
       "      <td>ATL</td>\n",
       "      <td>53505795.0</td>\n",
       "    </tr>\n",
       "    <tr>\n",
       "      <th>1</th>\n",
       "      <td>DFW</td>\n",
       "      <td>35778573.0</td>\n",
       "    </tr>\n",
       "    <tr>\n",
       "      <th>2</th>\n",
       "      <td>DEN</td>\n",
       "      <td>33592945.0</td>\n",
       "    </tr>\n",
       "    <tr>\n",
       "      <th>3</th>\n",
       "      <td>ORD</td>\n",
       "      <td>40871223.0</td>\n",
       "    </tr>\n",
       "    <tr>\n",
       "      <th>4</th>\n",
       "      <td>LAX</td>\n",
       "      <td>42939104.0</td>\n",
       "    </tr>\n",
       "  </tbody>\n",
       "</table>\n",
       "</div>"
      ],
      "text/plain": [
       "  Locid  CY 19 Enplanements\n",
       "0   ATL          53505795.0\n",
       "1   DFW          35778573.0\n",
       "2   DEN          33592945.0\n",
       "3   ORD          40871223.0\n",
       "4   LAX          42939104.0"
      ]
     },
     "execution_count": 52,
     "metadata": {},
     "output_type": "execute_result"
    }
   ],
   "source": [
    "enplanemntes = enplanemntes[[\"Locid\",\"CY 19 Enplanements\"]]\n",
    "enplanemntes.head()"
   ]
  },
  {
   "cell_type": "code",
   "execution_count": 53,
   "id": "60230266-d1da-4830-bf7e-9835e16dc983",
   "metadata": {},
   "outputs": [],
   "source": [
    "ser = flights_fe[\"origin\"] "
   ]
  },
  {
   "cell_type": "code",
   "execution_count": 54,
   "id": "061cabe5-2569-4575-802e-2f79448d8a20",
   "metadata": {},
   "outputs": [],
   "source": [
    "flights_fe = pd.merge(left=flights_fe,right=enplanemntes,how=\"left\",left_on=\"origin\",right_on=\"Locid\")"
   ]
  },
  {
   "cell_type": "code",
   "execution_count": 55,
   "id": "a6d98b9a-517c-479d-9123-9874e87ecb14",
   "metadata": {},
   "outputs": [
    {
     "data": {
      "text/plain": [
       "(129736, 36)"
      ]
     },
     "execution_count": 55,
     "metadata": {},
     "output_type": "execute_result"
    }
   ],
   "source": [
    "flights_fe.shape"
   ]
  },
  {
   "cell_type": "code",
   "execution_count": null,
   "id": "7326ff34-832b-475d-8e43-6152ce5c82b7",
   "metadata": {},
   "outputs": [],
   "source": []
  },
  {
   "cell_type": "markdown",
   "id": "aa256c72-334e-4d05-8ea3-36b8fdea0622",
   "metadata": {},
   "source": [
    "# Airport Location details"
   ]
  },
  {
   "cell_type": "code",
   "execution_count": null,
   "id": "130a55ad-3784-480e-90d8-ea0f250098f5",
   "metadata": {},
   "outputs": [],
   "source": []
  },
  {
   "cell_type": "markdown",
   "id": "414d8fb4-70d3-4120-9217-219049390dfb",
   "metadata": {},
   "source": [
    "## Airport details (number of gates, waiting area etc.,)"
   ]
  },
  {
   "cell_type": "code",
   "execution_count": 58,
   "id": "9668d474-66c2-46d8-be0b-e24fe82e05da",
   "metadata": {},
   "outputs": [
    {
     "data": {
      "text/html": [
       "<div>\n",
       "<style scoped>\n",
       "    .dataframe tbody tr th:only-of-type {\n",
       "        vertical-align: middle;\n",
       "    }\n",
       "\n",
       "    .dataframe tbody tr th {\n",
       "        vertical-align: top;\n",
       "    }\n",
       "\n",
       "    .dataframe thead th {\n",
       "        text-align: right;\n",
       "    }\n",
       "</style>\n",
       "<table border=\"1\" class=\"dataframe\">\n",
       "  <thead>\n",
       "    <tr style=\"text-align: right;\">\n",
       "      <th></th>\n",
       "      <th>site_id</th>\n",
       "      <th>npias_no</th>\n",
       "      <th>service_level</th>\n",
       "      <th>hub_type</th>\n",
       "      <th>airport_status</th>\n",
       "      <th>lat</th>\n",
       "      <th>lon</th>\n",
       "      <th>city</th>\n",
       "      <th>county</th>\n",
       "      <th>elevation</th>\n",
       "      <th>...</th>\n",
       "      <th>beacon_color</th>\n",
       "      <th>air_carrier_annual</th>\n",
       "      <th>total_operations_annual</th>\n",
       "      <th>operations_annual_ending</th>\n",
       "      <th>num_runways</th>\n",
       "      <th>avg_runway_length</th>\n",
       "      <th>avg_runway_width</th>\n",
       "      <th>Rank</th>\n",
       "      <th>CY 19 Enplanements</th>\n",
       "      <th>Locid</th>\n",
       "    </tr>\n",
       "    <tr>\n",
       "      <th>airport_code</th>\n",
       "      <th></th>\n",
       "      <th></th>\n",
       "      <th></th>\n",
       "      <th></th>\n",
       "      <th></th>\n",
       "      <th></th>\n",
       "      <th></th>\n",
       "      <th></th>\n",
       "      <th></th>\n",
       "      <th></th>\n",
       "      <th></th>\n",
       "      <th></th>\n",
       "      <th></th>\n",
       "      <th></th>\n",
       "      <th></th>\n",
       "      <th></th>\n",
       "      <th></th>\n",
       "      <th></th>\n",
       "      <th></th>\n",
       "      <th></th>\n",
       "      <th></th>\n",
       "    </tr>\n",
       "  </thead>\n",
       "  <tbody>\n",
       "    <tr>\n",
       "      <th>ATL</th>\n",
       "      <td>03640.*A</td>\n",
       "      <td>13-0008</td>\n",
       "      <td>Primary</td>\n",
       "      <td>Large</td>\n",
       "      <td>Operational</td>\n",
       "      <td>33° 38' 12.1186\" N</td>\n",
       "      <td>84° 25' 40.3104\" W</td>\n",
       "      <td>ATLANTA, GA</td>\n",
       "      <td>FULTON</td>\n",
       "      <td>1026.2</td>\n",
       "      <td>...</td>\n",
       "      <td>Clear and Green</td>\n",
       "      <td>474822</td>\n",
       "      <td>525305</td>\n",
       "      <td>01/31/2021</td>\n",
       "      <td>5</td>\n",
       "      <td>9877.800000</td>\n",
       "      <td>150.000000</td>\n",
       "      <td>1.0</td>\n",
       "      <td>53505795.0</td>\n",
       "      <td>ATL</td>\n",
       "    </tr>\n",
       "    <tr>\n",
       "      <th>DTW</th>\n",
       "      <td>09749.*A</td>\n",
       "      <td>26-0026</td>\n",
       "      <td>Primary</td>\n",
       "      <td>Large</td>\n",
       "      <td>Operational</td>\n",
       "      <td>42° 12' 44.8\" N</td>\n",
       "      <td>83° 21' 12.2\" W</td>\n",
       "      <td>DETROIT, MI</td>\n",
       "      <td>WAYNE</td>\n",
       "      <td>645.2</td>\n",
       "      <td>...</td>\n",
       "      <td>Clear and Green</td>\n",
       "      <td>315995</td>\n",
       "      <td>393681</td>\n",
       "      <td>12/31/2018</td>\n",
       "      <td>6</td>\n",
       "      <td>9618.833333</td>\n",
       "      <td>158.333333</td>\n",
       "      <td>18.0</td>\n",
       "      <td>18143040.0</td>\n",
       "      <td>DTW</td>\n",
       "    </tr>\n",
       "    <tr>\n",
       "      <th>ATW</th>\n",
       "      <td>27013.1*A</td>\n",
       "      <td>55-0002</td>\n",
       "      <td>Primary</td>\n",
       "      <td>Non-Hub</td>\n",
       "      <td>Operational</td>\n",
       "      <td>44° 15' 29.1\" N</td>\n",
       "      <td>88° 31' 8.7\" W</td>\n",
       "      <td>APPLETON, WI</td>\n",
       "      <td>OUTAGAMIE</td>\n",
       "      <td>918.3</td>\n",
       "      <td>...</td>\n",
       "      <td>Clear and Green</td>\n",
       "      <td>6490</td>\n",
       "      <td>37809</td>\n",
       "      <td>12/31/2019</td>\n",
       "      <td>2</td>\n",
       "      <td>7251.500000</td>\n",
       "      <td>150.000000</td>\n",
       "      <td>144.0</td>\n",
       "      <td>386737.0</td>\n",
       "      <td>ATW</td>\n",
       "    </tr>\n",
       "    <tr>\n",
       "      <th>CSG</th>\n",
       "      <td>03728.*A</td>\n",
       "      <td>13-0035</td>\n",
       "      <td>Primary</td>\n",
       "      <td>Non-Hub</td>\n",
       "      <td>Operational</td>\n",
       "      <td>32° 30' 58.8\" N</td>\n",
       "      <td>84° 56' 19.9\" W</td>\n",
       "      <td>COLUMBUS, GA</td>\n",
       "      <td>MUSCOGEE</td>\n",
       "      <td>397.4</td>\n",
       "      <td>...</td>\n",
       "      <td>Clear and Green</td>\n",
       "      <td>348</td>\n",
       "      <td>36760</td>\n",
       "      <td>12/31/2019</td>\n",
       "      <td>2</td>\n",
       "      <td>5497.000000</td>\n",
       "      <td>112.500000</td>\n",
       "      <td>266.0</td>\n",
       "      <td>52351.0</td>\n",
       "      <td>CSG</td>\n",
       "    </tr>\n",
       "    <tr>\n",
       "      <th>BTR</th>\n",
       "      <td>07425.*A</td>\n",
       "      <td>22-0006</td>\n",
       "      <td>Primary</td>\n",
       "      <td>Non-Hub</td>\n",
       "      <td>Operational</td>\n",
       "      <td>30° 31' 58.5\" N</td>\n",
       "      <td>91° 8' 59.6\" W</td>\n",
       "      <td>BATON ROUGE, LA</td>\n",
       "      <td>EAST BATON ROUGE</td>\n",
       "      <td>69.7</td>\n",
       "      <td>...</td>\n",
       "      <td>Clear and Green</td>\n",
       "      <td>11908</td>\n",
       "      <td>55331</td>\n",
       "      <td>08/31/2018</td>\n",
       "      <td>3</td>\n",
       "      <td>6101.333333</td>\n",
       "      <td>125.000000</td>\n",
       "      <td>150.0</td>\n",
       "      <td>399591.0</td>\n",
       "      <td>BTR</td>\n",
       "    </tr>\n",
       "  </tbody>\n",
       "</table>\n",
       "<p>5 rows × 26 columns</p>\n",
       "</div>"
      ],
      "text/plain": [
       "                site_id npias_no service_level hub_type airport_status  \\\n",
       "airport_code                                                             \n",
       "ATL            03640.*A  13-0008       Primary    Large    Operational   \n",
       "DTW            09749.*A  26-0026       Primary    Large    Operational   \n",
       "ATW           27013.1*A  55-0002       Primary  Non-Hub    Operational   \n",
       "CSG            03728.*A  13-0035       Primary  Non-Hub    Operational   \n",
       "BTR            07425.*A  22-0006       Primary  Non-Hub    Operational   \n",
       "\n",
       "                             lat                 lon             city  \\\n",
       "airport_code                                                            \n",
       "ATL           33° 38' 12.1186\" N  84° 25' 40.3104\" W      ATLANTA, GA   \n",
       "DTW              42° 12' 44.8\" N     83° 21' 12.2\" W      DETROIT, MI   \n",
       "ATW              44° 15' 29.1\" N      88° 31' 8.7\" W     APPLETON, WI   \n",
       "CSG              32° 30' 58.8\" N     84° 56' 19.9\" W     COLUMBUS, GA   \n",
       "BTR              30° 31' 58.5\" N      91° 8' 59.6\" W  BATON ROUGE, LA   \n",
       "\n",
       "                        county  elevation  ...     beacon_color  \\\n",
       "airport_code                               ...                    \n",
       "ATL                     FULTON     1026.2  ...  Clear and Green   \n",
       "DTW                      WAYNE      645.2  ...  Clear and Green   \n",
       "ATW                  OUTAGAMIE      918.3  ...  Clear and Green   \n",
       "CSG                   MUSCOGEE      397.4  ...  Clear and Green   \n",
       "BTR           EAST BATON ROUGE       69.7  ...  Clear and Green   \n",
       "\n",
       "             air_carrier_annual total_operations_annual  \\\n",
       "airport_code                                              \n",
       "ATL                      474822                  525305   \n",
       "DTW                      315995                  393681   \n",
       "ATW                        6490                   37809   \n",
       "CSG                         348                   36760   \n",
       "BTR                       11908                   55331   \n",
       "\n",
       "             operations_annual_ending  num_runways avg_runway_length  \\\n",
       "airport_code                                                           \n",
       "ATL                        01/31/2021            5       9877.800000   \n",
       "DTW                        12/31/2018            6       9618.833333   \n",
       "ATW                        12/31/2019            2       7251.500000   \n",
       "CSG                        12/31/2019            2       5497.000000   \n",
       "BTR                        08/31/2018            3       6101.333333   \n",
       "\n",
       "             avg_runway_width   Rank  CY 19 Enplanements Locid  \n",
       "airport_code                                                    \n",
       "ATL                150.000000    1.0          53505795.0   ATL  \n",
       "DTW                158.333333   18.0          18143040.0   DTW  \n",
       "ATW                150.000000  144.0            386737.0   ATW  \n",
       "CSG                112.500000  266.0             52351.0   CSG  \n",
       "BTR                125.000000  150.0            399591.0   BTR  \n",
       "\n",
       "[5 rows x 26 columns]"
      ]
     },
     "execution_count": 58,
     "metadata": {},
     "output_type": "execute_result"
    }
   ],
   "source": [
    "airport_details = pd.read_csv(r\"../data/external/faa_airport_details.csv\")\n",
    "airport_details = airport_details.set_index(\"airport_code\")\n",
    "airport_details.area = airport_details.area.replace({\"\":np.nan})\n",
    "airport_details.head()"
   ]
  },
  {
   "cell_type": "code",
   "execution_count": 59,
   "id": "acefdf75-9930-44eb-b0f7-3a2931517104",
   "metadata": {
    "jupyter": {
     "source_hidden": true
    },
    "tags": []
   },
   "outputs": [
    {
     "data": {
      "text/html": [
       "<div>\n",
       "<style scoped>\n",
       "    .dataframe tbody tr th:only-of-type {\n",
       "        vertical-align: middle;\n",
       "    }\n",
       "\n",
       "    .dataframe tbody tr th {\n",
       "        vertical-align: top;\n",
       "    }\n",
       "\n",
       "    .dataframe thead th {\n",
       "        text-align: right;\n",
       "    }\n",
       "</style>\n",
       "<table border=\"1\" class=\"dataframe\">\n",
       "  <thead>\n",
       "    <tr style=\"text-align: right;\">\n",
       "      <th></th>\n",
       "      <th>service_level</th>\n",
       "      <th>hub_type</th>\n",
       "      <th>ownership_status</th>\n",
       "      <th>facility_use</th>\n",
       "      <th>area</th>\n",
       "      <th>fss_on_airport</th>\n",
       "      <th>beacon_color</th>\n",
       "      <th>total_operations_annual</th>\n",
       "      <th>num_runways</th>\n",
       "      <th>avg_runway_length</th>\n",
       "      <th>avg_runway_width</th>\n",
       "      <th>Rank</th>\n",
       "    </tr>\n",
       "    <tr>\n",
       "      <th>airport_code</th>\n",
       "      <th></th>\n",
       "      <th></th>\n",
       "      <th></th>\n",
       "      <th></th>\n",
       "      <th></th>\n",
       "      <th></th>\n",
       "      <th></th>\n",
       "      <th></th>\n",
       "      <th></th>\n",
       "      <th></th>\n",
       "      <th></th>\n",
       "      <th></th>\n",
       "    </tr>\n",
       "  </thead>\n",
       "  <tbody>\n",
       "    <tr>\n",
       "      <th>ATL</th>\n",
       "      <td>Primary</td>\n",
       "      <td>Large</td>\n",
       "      <td>PUBLIC</td>\n",
       "      <td>PUBLIC</td>\n",
       "      <td>4700.0</td>\n",
       "      <td>NO</td>\n",
       "      <td>Clear and Green</td>\n",
       "      <td>525305</td>\n",
       "      <td>5</td>\n",
       "      <td>9877.800000</td>\n",
       "      <td>150.000000</td>\n",
       "      <td>1.0</td>\n",
       "    </tr>\n",
       "    <tr>\n",
       "      <th>DTW</th>\n",
       "      <td>Primary</td>\n",
       "      <td>Large</td>\n",
       "      <td>PUBLIC</td>\n",
       "      <td>PUBLIC</td>\n",
       "      <td>4850.0</td>\n",
       "      <td>NO</td>\n",
       "      <td>Clear and Green</td>\n",
       "      <td>393681</td>\n",
       "      <td>6</td>\n",
       "      <td>9618.833333</td>\n",
       "      <td>158.333333</td>\n",
       "      <td>18.0</td>\n",
       "    </tr>\n",
       "    <tr>\n",
       "      <th>ATW</th>\n",
       "      <td>Primary</td>\n",
       "      <td>Non-Hub</td>\n",
       "      <td>PUBLIC</td>\n",
       "      <td>PUBLIC</td>\n",
       "      <td>1638.0</td>\n",
       "      <td>NO</td>\n",
       "      <td>Clear and Green</td>\n",
       "      <td>37809</td>\n",
       "      <td>2</td>\n",
       "      <td>7251.500000</td>\n",
       "      <td>150.000000</td>\n",
       "      <td>144.0</td>\n",
       "    </tr>\n",
       "    <tr>\n",
       "      <th>CSG</th>\n",
       "      <td>Primary</td>\n",
       "      <td>Non-Hub</td>\n",
       "      <td>PUBLIC</td>\n",
       "      <td>PUBLIC</td>\n",
       "      <td>680.0</td>\n",
       "      <td>NO</td>\n",
       "      <td>Clear and Green</td>\n",
       "      <td>36760</td>\n",
       "      <td>2</td>\n",
       "      <td>5497.000000</td>\n",
       "      <td>112.500000</td>\n",
       "      <td>266.0</td>\n",
       "    </tr>\n",
       "    <tr>\n",
       "      <th>BTR</th>\n",
       "      <td>Primary</td>\n",
       "      <td>Non-Hub</td>\n",
       "      <td>PUBLIC</td>\n",
       "      <td>PUBLIC</td>\n",
       "      <td>1250.0</td>\n",
       "      <td>NO</td>\n",
       "      <td>Clear and Green</td>\n",
       "      <td>55331</td>\n",
       "      <td>3</td>\n",
       "      <td>6101.333333</td>\n",
       "      <td>125.000000</td>\n",
       "      <td>150.0</td>\n",
       "    </tr>\n",
       "  </tbody>\n",
       "</table>\n",
       "</div>"
      ],
      "text/plain": [
       "             service_level hub_type ownership_status facility_use    area  \\\n",
       "airport_code                                                                \n",
       "ATL                Primary    Large           PUBLIC       PUBLIC  4700.0   \n",
       "DTW                Primary    Large           PUBLIC       PUBLIC  4850.0   \n",
       "ATW                Primary  Non-Hub           PUBLIC       PUBLIC  1638.0   \n",
       "CSG                Primary  Non-Hub           PUBLIC       PUBLIC   680.0   \n",
       "BTR                Primary  Non-Hub           PUBLIC       PUBLIC  1250.0   \n",
       "\n",
       "             fss_on_airport     beacon_color  total_operations_annual  \\\n",
       "airport_code                                                            \n",
       "ATL                      NO  Clear and Green                   525305   \n",
       "DTW                      NO  Clear and Green                   393681   \n",
       "ATW                      NO  Clear and Green                    37809   \n",
       "CSG                      NO  Clear and Green                    36760   \n",
       "BTR                      NO  Clear and Green                    55331   \n",
       "\n",
       "              num_runways  avg_runway_length  avg_runway_width   Rank  \n",
       "airport_code                                                           \n",
       "ATL                     5        9877.800000        150.000000    1.0  \n",
       "DTW                     6        9618.833333        158.333333   18.0  \n",
       "ATW                     2        7251.500000        150.000000  144.0  \n",
       "CSG                     2        5497.000000        112.500000  266.0  \n",
       "BTR                     3        6101.333333        125.000000  150.0  "
      ]
     },
     "execution_count": 59,
     "metadata": {},
     "output_type": "execute_result"
    }
   ],
   "source": [
    "airport_details = airport_details.drop(columns=['site_id', 'npias_no','airport_status','lat', 'lon', 'city', 'county',\n",
    "                         'variation',\n",
    "       'last_inspection_date','operations_annual_ending','elevation','air_carrier_annual','Locid','CY 19 Enplanements'])\n",
    "airport_details.head()"
   ]
  },
  {
   "cell_type": "code",
   "execution_count": 60,
   "id": "1e9c0ca9-ee92-43a7-8135-3d788aa43064",
   "metadata": {},
   "outputs": [],
   "source": [
    "flights_fe = pd.merge(left=flights_fe,right=airport_details,right_index=True,left_on='origin')\n",
    "flights_fe = pd.merge(left=flights_fe,right=airport_details,right_index=True,left_on='dest',suffixes=(\"_or\",\"_des\"))"
   ]
  },
  {
   "cell_type": "code",
   "execution_count": 61,
   "id": "d6dbd1f7-bb9b-49f8-a20f-cc1095ddb23c",
   "metadata": {},
   "outputs": [
    {
     "data": {
      "text/plain": [
       "(129720, 60)"
      ]
     },
     "execution_count": 61,
     "metadata": {},
     "output_type": "execute_result"
    }
   ],
   "source": [
    "flights_fe.shape"
   ]
  },
  {
   "cell_type": "code",
   "execution_count": null,
   "id": "526cbbd7-86cb-40db-a78d-f013ef384264",
   "metadata": {},
   "outputs": [],
   "source": []
  },
  {
   "cell_type": "markdown",
   "id": "4d262bf9-1480-4169-9948-7c6c99618426",
   "metadata": {},
   "source": [
    "## Date, hour, week"
   ]
  },
  {
   "cell_type": "code",
   "execution_count": 62,
   "id": "334996aa-0c33-4830-a991-9aeedb4f9c0b",
   "metadata": {},
   "outputs": [],
   "source": [
    "# flights_modified['arr_year'] = flights_modified['arr_date_time'].dt.year\n",
    "flights_fe['arr_month'] = flights_fe['arr_date_time'].dt.month\n",
    "flights_fe['arr_day_of_week'] = flights_fe['arr_date_time'].dt.day_of_week\n",
    "flights_fe['arr_hour'] = flights_fe['arr_date_time'].dt.hour\n",
    "\n",
    "\n",
    "# flights_modified['dep_year'] = flights_modified['dep_date_time'].dt.year\n",
    "flights_fe['dep_month'] = flights_fe['dep_date_time'].dt.month\n",
    "flights_fe['dep_day_of_week'] = flights_fe['dep_date_time'].dt.day_of_week\n",
    "flights_fe['dep_hour'] = flights_fe['dep_date_time'].dt.hour"
   ]
  },
  {
   "cell_type": "code",
   "execution_count": 63,
   "id": "2f029a9d-75cd-4821-b350-01b8e2d531e1",
   "metadata": {},
   "outputs": [
    {
     "data": {
      "text/plain": [
       "(129720, 66)"
      ]
     },
     "execution_count": 63,
     "metadata": {},
     "output_type": "execute_result"
    }
   ],
   "source": [
    "flights_fe.shape"
   ]
  },
  {
   "cell_type": "code",
   "execution_count": null,
   "id": "bb3af9a5-54c6-4fef-b9f7-43fdb94121f2",
   "metadata": {},
   "outputs": [],
   "source": []
  },
  {
   "cell_type": "markdown",
   "id": "9c1bc390-8cb4-480e-afd1-431af7a81532",
   "metadata": {},
   "source": [
    "## Carrier Profits in 2019"
   ]
  },
  {
   "cell_type": "code",
   "execution_count": null,
   "id": "fe5da6e9-3952-4df6-970b-af7963e4b6ec",
   "metadata": {},
   "outputs": [],
   "source": []
  },
  {
   "cell_type": "code",
   "execution_count": null,
   "id": "6f9106fb-60d6-4ab1-a0dd-38ead5e1c4cc",
   "metadata": {},
   "outputs": [],
   "source": []
  },
  {
   "cell_type": "markdown",
   "id": "4c59b340-96be-4ec7-8746-be80ef081338",
   "metadata": {},
   "source": [
    "## Carrier employment satisfaction"
   ]
  },
  {
   "cell_type": "code",
   "execution_count": null,
   "id": "4470ef77-728c-477e-a73b-a94462b23aba",
   "metadata": {},
   "outputs": [],
   "source": []
  },
  {
   "cell_type": "code",
   "execution_count": null,
   "id": "04d626d5-b871-4d1c-8bc1-e596f6207392",
   "metadata": {},
   "outputs": [],
   "source": []
  },
  {
   "cell_type": "markdown",
   "id": "0f5977dc-99c5-49fb-8f24-ef949a540af5",
   "metadata": {},
   "source": [
    "## carrier cargo tie-ups"
   ]
  },
  {
   "cell_type": "code",
   "execution_count": null,
   "id": "d8a80fbc-f31c-4246-8d8f-3538eaebef51",
   "metadata": {},
   "outputs": [],
   "source": []
  },
  {
   "cell_type": "code",
   "execution_count": null,
   "id": "095ea696-e9a5-4b20-9772-d756c00f2d4e",
   "metadata": {},
   "outputs": [],
   "source": []
  },
  {
   "cell_type": "markdown",
   "id": "59cee721-3cc7-4376-b621-e23db8229a48",
   "metadata": {},
   "source": [
    "## Save the file"
   ]
  },
  {
   "cell_type": "code",
   "execution_count": 65,
   "id": "3f128cf7-7beb-4561-ade4-a5313be44c6a",
   "metadata": {},
   "outputs": [],
   "source": [
    "flights_fe.to_csv(r\"../data/interim/2_feature_engineered/test_data.csv\",index=False)"
   ]
  },
  {
   "cell_type": "code",
   "execution_count": null,
   "id": "b5d97abe-95d9-4485-bf34-d172d3f6bfc5",
   "metadata": {},
   "outputs": [],
   "source": []
  }
 ],
 "metadata": {
  "kernelspec": {
   "display_name": "geo_env",
   "language": "python",
   "name": "geo_env"
  },
  "language_info": {
   "codemirror_mode": {
    "name": "ipython",
    "version": 3
   },
   "file_extension": ".py",
   "mimetype": "text/x-python",
   "name": "python",
   "nbconvert_exporter": "python",
   "pygments_lexer": "ipython3",
   "version": "3.9.6"
  }
 },
 "nbformat": 4,
 "nbformat_minor": 5
}
